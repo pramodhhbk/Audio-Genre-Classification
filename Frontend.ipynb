{
  "nbformat": 4,
  "nbformat_minor": 0,
  "metadata": {
    "colab": {
      "name": "Frontend.ipynb",
      "provenance": [],
      "collapsed_sections": [],
      "mount_file_id": "1E7hEvg-3bwkdZ4dKBCLC8rn1Atzub9ul",
      "authorship_tag": "ABX9TyNCWn+CGf+Em8iqF9vxOCm6",
      "include_colab_link": true
    },
    "kernelspec": {
      "display_name": "Python 3",
      "name": "python3"
    },
    "language_info": {
      "name": "python"
    }
  },
  "cells": [
    {
      "cell_type": "markdown",
      "metadata": {
        "id": "view-in-github",
        "colab_type": "text"
      },
      "source": [
        "<a href=\"https://colab.research.google.com/github/pramodhhbk/Audio-Genre-Classification/blob/main/Frontend.ipynb\" target=\"_parent\"><img src=\"https://colab.research.google.com/assets/colab-badge.svg\" alt=\"Open In Colab\"/></a>"
      ]
    },
    {
      "cell_type": "code",
      "metadata": {
        "colab": {
          "base_uri": "https://localhost:8080/"
        },
        "id": "bRMU9C4TL-Ed",
        "outputId": "be54fedf-d9e0-49a0-d1dd-86be2e1d4937"
      },
      "source": [
        "!pip install flask-ngrok\n",
        "!pip install gevent"
      ],
      "execution_count": null,
      "outputs": [
        {
          "output_type": "stream",
          "name": "stdout",
          "text": [
            "Collecting flask-ngrok\n",
            "  Downloading flask_ngrok-0.0.25-py3-none-any.whl (3.1 kB)\n",
            "Requirement already satisfied: Flask>=0.8 in /usr/local/lib/python3.7/dist-packages (from flask-ngrok) (1.1.4)\n",
            "Requirement already satisfied: requests in /usr/local/lib/python3.7/dist-packages (from flask-ngrok) (2.23.0)\n",
            "Requirement already satisfied: Jinja2<3.0,>=2.10.1 in /usr/local/lib/python3.7/dist-packages (from Flask>=0.8->flask-ngrok) (2.11.3)\n",
            "Requirement already satisfied: click<8.0,>=5.1 in /usr/local/lib/python3.7/dist-packages (from Flask>=0.8->flask-ngrok) (7.1.2)\n",
            "Requirement already satisfied: itsdangerous<2.0,>=0.24 in /usr/local/lib/python3.7/dist-packages (from Flask>=0.8->flask-ngrok) (1.1.0)\n",
            "Requirement already satisfied: Werkzeug<2.0,>=0.15 in /usr/local/lib/python3.7/dist-packages (from Flask>=0.8->flask-ngrok) (1.0.1)\n",
            "Requirement already satisfied: MarkupSafe>=0.23 in /usr/local/lib/python3.7/dist-packages (from Jinja2<3.0,>=2.10.1->Flask>=0.8->flask-ngrok) (2.0.1)\n",
            "Requirement already satisfied: chardet<4,>=3.0.2 in /usr/local/lib/python3.7/dist-packages (from requests->flask-ngrok) (3.0.4)\n",
            "Requirement already satisfied: idna<3,>=2.5 in /usr/local/lib/python3.7/dist-packages (from requests->flask-ngrok) (2.10)\n",
            "Requirement already satisfied: certifi>=2017.4.17 in /usr/local/lib/python3.7/dist-packages (from requests->flask-ngrok) (2021.5.30)\n",
            "Requirement already satisfied: urllib3!=1.25.0,!=1.25.1,<1.26,>=1.21.1 in /usr/local/lib/python3.7/dist-packages (from requests->flask-ngrok) (1.24.3)\n",
            "Installing collected packages: flask-ngrok\n",
            "Successfully installed flask-ngrok-0.0.25\n",
            "Collecting gevent\n",
            "  Downloading gevent-21.8.0-cp37-cp37m-manylinux_2_12_x86_64.manylinux2010_x86_64.whl (5.8 MB)\n",
            "\u001b[K     |████████████████████████████████| 5.8 MB 4.4 MB/s \n",
            "\u001b[?25hRequirement already satisfied: setuptools in /usr/local/lib/python3.7/dist-packages (from gevent) (57.4.0)\n",
            "Requirement already satisfied: greenlet<2.0,>=1.1.0 in /usr/local/lib/python3.7/dist-packages (from gevent) (1.1.2)\n",
            "Collecting zope.interface\n",
            "  Downloading zope.interface-5.4.0-cp37-cp37m-manylinux2010_x86_64.whl (251 kB)\n",
            "\u001b[K     |████████████████████████████████| 251 kB 63.9 MB/s \n",
            "\u001b[?25hCollecting zope.event\n",
            "  Downloading zope.event-4.5.0-py2.py3-none-any.whl (6.8 kB)\n",
            "Installing collected packages: zope.interface, zope.event, gevent\n",
            "Successfully installed gevent-21.8.0 zope.event-4.5.0 zope.interface-5.4.0\n"
          ]
        }
      ]
    },
    {
      "cell_type": "code",
      "metadata": {
        "id": "8uQ6ZdUTMaPW"
      },
      "source": [
        "from flask_ngrok import run_with_ngrok\n",
        "from flask import Flask, redirect, url_for, request, render_template\n",
        "from werkzeug.utils import secure_filename\n",
        "from gevent.pywsgi import WSGIServer\n",
        "from flask import Flask, redirect, url_for\n",
        "from __future__ import division, print_function\n",
        "import sys\n",
        "import os\n",
        "import glob\n",
        "import re\n",
        "import json\n",
        "import librosa\n",
        "import numpy as np \n",
        "import pandas as pd\n",
        "from tensorflow.keras.utils import to_categorical\n",
        "from sklearn.preprocessing import LabelEncoder"
      ],
      "execution_count": null,
      "outputs": []
    },
    {
      "cell_type": "code",
      "metadata": {
        "id": "sSRARq8FMqzY"
      },
      "source": [
        "import tensorflow as tf\n",
        "from tensorflow import keras\n",
        "model=keras.models.load_model(\"/content/drive/MyDrive/Pramodh_Project.h5\")\n"
      ],
      "execution_count": null,
      "outputs": []
    },
    {
      "cell_type": "code",
      "metadata": {
        "id": "QL-6JTITPP7G"
      },
      "source": [
        "import os\n",
        "directory = '/content/drive/MyDrive/ips'\n",
        "\n",
        "def genre_classifier(filename):\n",
        "    print(filename)\n",
        "    audio, sample_rate = librosa.load(filename, res_type='kaiser_fast') \n",
        "    print(audio,sample_rate)\n",
        "    mfccs_features = librosa.feature.mfcc(y=audio, sr=sample_rate, n_mfcc=90)\n",
        "    mfccs_scaled_features = np.mean(mfccs_features.T,axis=0)\n",
        "    mfccs_scaled_features=mfccs_scaled_features.reshape(1,-1)\n",
        "    predicted_label=model.predict_classes(mfccs_scaled_features)\n",
        "    #prediction_class=labelencoder.inverse_transform(prediction_label)\n",
        "    return predicted_label"
      ],
      "execution_count": null,
      "outputs": []
    },
    {
      "cell_type": "code",
      "metadata": {
        "colab": {
          "background_save": true,
          "base_uri": "https://localhost:8080/"
        },
        "id": "hdOd2U9lM3kH",
        "outputId": "ef94c368-8fff-4e15-d778-95c72ec466a6"
      },
      "source": [
        "app=Flask(__name__,template_folder='/content/drive/MyDrive/templates')\n",
        "UPLOAD_FOLDER='/content/drive/MyDrive/ips'\n",
        "app.config['UPLOAD_FOLDER']=UPLOAD_FOLDER\n",
        "run_with_ngrok(app)\n",
        "\n",
        "@app.route(\"/\")\n",
        "def index():\n",
        "  return  render_template('index.html')\n",
        "\n",
        "@app.route('/predict', methods=['GET', 'POST'])\n",
        "def upload():\n",
        "    if request.method == 'POST':\n",
        "        print(\"Image recieved on server\")\n",
        "        f = request.files['file']   # Get the file from post request\n",
        "        file_path = os.path.join(app.config['UPLOAD_FOLDER'] ,f.filename)\n",
        "        f.save(file_path)\n",
        "        preds = genre_classifier(file_path)\n",
        "        print(\"preds=\",preds)\n",
        "        li=[\"blues\",\"classical\",\"country\",\"disco\",\"hiphop\",\"jazz\",\"metal\",\"pop\",\"reggae\",\"rock\"]\n",
        "        print(li[preds[0]])\n",
        "        return li[preds[0]]\n",
        "    return None\n",
        "    \n",
        "app.run()"
      ],
      "execution_count": null,
      "outputs": [
        {
          "output_type": "stream",
          "name": "stdout",
          "text": [
            " * Serving Flask app \"__main__\" (lazy loading)\n",
            " * Environment: production\n",
            "\u001b[31m   WARNING: This is a development server. Do not use it in a production deployment.\u001b[0m\n",
            "\u001b[2m   Use a production WSGI server instead.\u001b[0m\n",
            " * Debug mode: off\n"
          ]
        },
        {
          "output_type": "stream",
          "name": "stderr",
          "text": [
            " * Running on http://127.0.0.1:5000/ (Press CTRL+C to quit)\n"
          ]
        },
        {
          "output_type": "stream",
          "name": "stdout",
          "text": [
            " * Running on http://e5e0-34-74-242-147.ngrok.io\n",
            " * Traffic stats available on http://127.0.0.1:4040\n"
          ]
        },
        {
          "output_type": "stream",
          "name": "stderr",
          "text": [
            "127.0.0.1 - - [07/Nov/2021 16:36:09] \"\u001b[37mGET / HTTP/1.1\u001b[0m\" 200 -\n",
            "127.0.0.1 - - [07/Nov/2021 16:36:09] \"\u001b[32mGET /static//content/static/js/main.js HTTP/1.1\u001b[0m\" 308 -\n",
            "127.0.0.1 - - [07/Nov/2021 16:36:09] \"\u001b[33mGET /static/content/static/js/main.js HTTP/1.1\u001b[0m\" 404 -\n",
            "127.0.0.1 - - [07/Nov/2021 16:36:10] \"\u001b[37mGET / HTTP/1.1\u001b[0m\" 200 -\n",
            "127.0.0.1 - - [07/Nov/2021 16:36:11] \"\u001b[33mGET /static/content/static/js/main.js HTTP/1.1\u001b[0m\" 404 -\n",
            "127.0.0.1 - - [07/Nov/2021 16:36:11] \"\u001b[33mGET /favicon.ico HTTP/1.1\u001b[0m\" 404 -\n",
            "127.0.0.1 - - [07/Nov/2021 16:36:12] \"\u001b[32mGET /static//content/static/js/main.js HTTP/1.1\u001b[0m\" 308 -\n",
            "127.0.0.1 - - [07/Nov/2021 16:36:13] \"\u001b[33mGET /static/content/static/js/main.js HTTP/1.1\u001b[0m\" 404 -\n"
          ]
        }
      ]
    }
  ]
}